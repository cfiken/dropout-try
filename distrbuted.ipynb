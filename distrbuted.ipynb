{
 "cells": [
  {
   "cell_type": "code",
   "execution_count": 1,
   "metadata": {
    "ExecuteTime": {
     "end_time": "2018-06-01T05:47:45.550972Z",
     "start_time": "2018-06-01T05:47:44.500622Z"
    }
   },
   "outputs": [],
   "source": [
    "import tensorflow as tf\n",
    "import numpy as np\n",
    "import matplotlib.pyplot as plt\n",
    "from tensorflow.examples.tutorials.mnist import input_data"
   ]
  },
  {
   "cell_type": "code",
   "execution_count": 2,
   "metadata": {
    "ExecuteTime": {
     "end_time": "2018-06-01T05:47:45.553999Z",
     "start_time": "2018-06-01T05:47:45.552063Z"
    }
   },
   "outputs": [],
   "source": [
    "from lib import helper\n",
    "import os"
   ]
  },
  {
   "cell_type": "code",
   "execution_count": 3,
   "metadata": {
    "ExecuteTime": {
     "end_time": "2018-06-01T05:47:45.984904Z",
     "start_time": "2018-06-01T05:47:45.554912Z"
    }
   },
   "outputs": [
    {
     "name": "stdout",
     "output_type": "stream",
     "text": [
      "Extracting data/train-images-idx3-ubyte.gz\n",
      "Extracting data/train-labels-idx1-ubyte.gz\n",
      "Extracting data/t10k-images-idx3-ubyte.gz\n",
      "Extracting data/t10k-labels-idx1-ubyte.gz\n"
     ]
    }
   ],
   "source": [
    "mnist = input_data.read_data_sets(\"data/\", one_hot=True)\n",
    "test_data = mnist.test.images\n",
    "test_label = mnist.test.labels"
   ]
  },
  {
   "cell_type": "code",
   "execution_count": 4,
   "metadata": {
    "ExecuteTime": {
     "end_time": "2018-06-01T05:47:45.990008Z",
     "start_time": "2018-06-01T05:47:45.985933Z"
    }
   },
   "outputs": [],
   "source": [
    "num_inputs = 784 # 28x28\n",
    "num_outputs = 10\n",
    "num_units = 512\n",
    "num_layers = 8\n",
    "batch_size = 64\n",
    "num_epochs= 10000\n",
    "learning_rate = 0.0001\n",
    "use_dropout = True\n",
    "in_dropout_rate = 0.0\n",
    "all_dropout_rate = 0.0\n",
    "worker_num = 2"
   ]
  },
  {
   "cell_type": "code",
   "execution_count": 5,
   "metadata": {
    "ExecuteTime": {
     "end_time": "2018-06-01T05:47:46.132725Z",
     "start_time": "2018-06-01T05:47:45.991038Z"
    }
   },
   "outputs": [],
   "source": [
    "myint = tf.int32\n",
    "myfloat = tf.float32"
   ]
  },
  {
   "cell_type": "code",
   "execution_count": 6,
   "metadata": {
    "ExecuteTime": {
     "end_time": "2018-06-01T05:47:46.222803Z",
     "start_time": "2018-06-01T05:47:46.137802Z"
    }
   },
   "outputs": [],
   "source": [
    "# 適当なモデル (雑)\n",
    "class DNN:\n",
    "    \n",
    "    def __init__(self):\n",
    "        self.global_step = tf.train.get_or_create_global_step()\n",
    "        self.x = tf.placeholder(dtype=myfloat, shape=[None, num_inputs], name='x')\n",
    "        self.y = tf.placeholder(dtype=myfloat, shape=[None, num_outputs], name='y')\n",
    "        self.is_training = tf.placeholder(dtype=tf.bool, name='is_training')\n",
    "        \n",
    "        if use_dropout:\n",
    "            self.x = tf.layers.dropout(self.x, rate=in_dropout_rate, training=self.is_training)\n",
    "        for i in range(num_layers):\n",
    "            if i ==0:\n",
    "                layer = tf.layers.dense(self.x, num_units, tf.nn.relu, kernel_initializer=tf.truncated_normal_initializer(stddev=0.1), name='l_{}'.format(i))\n",
    "            else:\n",
    "                layer = tf.layers.dense(layer, num_units, tf.nn.relu, kernel_initializer=tf.truncated_normal_initializer(stddev=0.1), name='l_{}'.format(i))\n",
    "            if use_dropout:\n",
    "                layer = tf.layers.dropout(layer, rate=all_dropout_rate , training=self.is_training, name='l_dropout_{}'.format(i))\n",
    "\n",
    "        out = tf.layers.dense(layer,\n",
    "                                   num_outputs, \n",
    "                                   tf.nn.softmax, \n",
    "                                   kernel_initializer=tf.truncated_normal_initializer(stddev=0.1), \n",
    "                                   name='out_layer')\n",
    "        self.loss_ce = tf.reduce_mean(-tf.reduce_sum(self.y * tf.log(out + 10e-8), 1))\n",
    "        loss_se = tf.reduce_sum(tf.square(self.y - out))\n",
    "\n",
    "        self.optimizer = tf.train.AdamOptimizer(learning_rate)\n",
    "        self.optimizer = tf.train.SyncReplicasOptimizer(self.optimizer, replicas_to_aggregate=worker_num, total_num_replicas=worker_num)\n",
    "        params = tf.trainable_variables()\n",
    "        gradients = tf.gradients(self.loss_ce, params)\n",
    "        self.train = self.optimizer.apply_gradients(zip(gradients, params), global_step=self.global_step)\n",
    "\n",
    "        grad_norm = [tf.norm(g) for g in gradients]\n",
    "        grad_norm_sum = tf.reduce_sum(grad_norm)\n",
    "        \n",
    "        y_label = tf.argmax(self.y, 1)\n",
    "        out_label = tf.argmax(out, 1)\n",
    "\n",
    "        correct = tf.equal(y_label, out_label)\n",
    "        self.accuracy = tf.reduce_mean(tf.cast(correct, myfloat))\n",
    "        \n",
    "        with tf.name_scope('train'):\n",
    "            smr_loss_ce = tf.summary.scalar('loss_cross_entropy', self.loss_ce)\n",
    "            smr_loss_se = tf.summary.scalar('loss_squared_error', loss_se)\n",
    "            smr_acc = tf.summary.scalar('accuracy', self.accuracy)\n",
    "            smr_grad = tf.summary.scalar('gradient', grad_norm_sum)\n",
    "            merged_summary = tf.summary.merge([smr_loss_ce, smr_loss_se, smr_acc, smr_grad])\n",
    "\n",
    "        with tf.name_scope('test'):\n",
    "            self.test_smr_acc = tf.summary.scalar('accuracy', self.accuracy)"
   ]
  },
  {
   "cell_type": "code",
   "execution_count": 7,
   "metadata": {
    "ExecuteTime": {
     "end_time": "2018-06-01T05:47:46.358482Z",
     "start_time": "2018-06-01T05:47:46.223740Z"
    }
   },
   "outputs": [],
   "source": [
    "from datetime import datetime\n",
    "import time\n",
    "now = datetime.now()\n",
    "logdir_base = 'logs'\n",
    "logdir = logdir_base"
   ]
  },
  {
   "cell_type": "code",
   "execution_count": 8,
   "metadata": {
    "ExecuteTime": {
     "end_time": "2018-06-01T05:47:46.484257Z",
     "start_time": "2018-06-01T05:47:46.362769Z"
    }
   },
   "outputs": [],
   "source": [
    "cluster = tf.train.ClusterSpec({\n",
    "    'worker': [\n",
    "        'localhost:3335',\n",
    "        'localhost:3336',\n",
    "    ],\n",
    "    'ps': [\n",
    "        'localhost:3331',\n",
    "        'localhost:3332',\n",
    "    ]\n",
    "})"
   ]
  },
  {
   "cell_type": "code",
   "execution_count": 9,
   "metadata": {
    "ExecuteTime": {
     "end_time": "2018-06-01T05:47:46.572642Z",
     "start_time": "2018-06-01T05:47:46.489293Z"
    }
   },
   "outputs": [],
   "source": [
    "def parameter_server(task_index):\n",
    "    os.environ['CUDA_VISIBLE_DEVICES'] = ''\n",
    "    server = tf.train.Server(cluster, job_name='ps', task_index=task_index)\n",
    "    server.join()"
   ]
  },
  {
   "cell_type": "code",
   "execution_count": 10,
   "metadata": {
    "ExecuteTime": {
     "end_time": "2018-06-01T05:47:46.678453Z",
     "start_time": "2018-06-01T05:47:46.577124Z"
    }
   },
   "outputs": [],
   "source": [
    "def worker(task_index, logs_path):\n",
    "    logs_path = logs_path + ('worker_%d' % task_index)\n",
    "    os.environ['CUDA_VISIBLE_DEVICES'] = str(task_index)\n",
    "    server = tf.train.Server(cluster, job_name='worker', task_index=task_index)\n",
    "    \n",
    "    device_function = tf.train.replica_device_setter(worker_device='/job:worker/task:%d' % task_index,\n",
    "                                                                 cluster=cluster)\n",
    "    with tf.device(device_function):\n",
    "\n",
    "        dnn = DNN()\n",
    "\n",
    "        global_step = dnn.global_step\n",
    "        loss_op = dnn.loss_ce\n",
    "        accuracy_op = dnn.accuracy\n",
    "        train_op = dnn.train\n",
    "        optimizer = dnn.optimizer\n",
    "\n",
    "    summary_hook = tf.train.SummarySaverHook(save_secs=5, output_dir=logs_path, summary_op=tf.summary.merge_all())\n",
    "    hooks=[summary_hook, tf.train.NanTensorHook(loss_op), optimizer.make_session_run_hook(task_index == 0)]\n",
    "\n",
    "    config = tf.ConfigProto(\n",
    "        allow_soft_placement=True,\n",
    "        gpu_options=tf.GPUOptions(\n",
    "            allow_growth=True\n",
    "        ))\n",
    "    \n",
    "    # training\n",
    "    with tf.train.MonitoredTrainingSession(master=server.target,\n",
    "                                           config=config,\n",
    "                                           is_chief=(task_index == 0),\n",
    "                                           checkpoint_dir='logs/train_logs',\n",
    "                                           hooks=hooks) as sess:\n",
    "        start_all = time.time()\n",
    "        for i in range(num_epochs):\n",
    "            start = time.time()\n",
    "            train_data, train_label = mnist.train.next_batch(batch_size)\n",
    "            train_step, loss, train_acc, step_val = sess.run([train_op, loss_op, accuracy_op, global_step], feed_dict={\n",
    "                dnn.x: train_data,\n",
    "                dnn.y: train_label,\n",
    "                dnn.is_training: True\n",
    "            })\n",
    "            end = time.time()\n",
    "            \n",
    "            if i % 100 == 0:\n",
    "                print(\"{}/{} epoch, train_loss = {:.3f}, accuracy = {:.4f}, time/epoch = {:.3f}, global_step = {}\".format(\n",
    "                    i, num_epochs, loss, train_acc, end - start, step_val))\n",
    "        end_all = time.time()\n",
    "        \n",
    "        # test accuracy\n",
    "        test_acc = sess.run(accuracy_op, feed_dict={\n",
    "                dnn.x: test_data,\n",
    "                dnn.y: test_label,\n",
    "                dnn.is_training: False\n",
    "            })\n",
    "        print('test accuracy: ', test_acc)\n",
    "    print('elapsed: ', end_all - start_all)"
   ]
  },
  {
   "cell_type": "code",
   "execution_count": 11,
   "metadata": {
    "ExecuteTime": {
     "end_time": "2018-06-01T05:47:46.818462Z",
     "start_time": "2018-06-01T05:47:46.679489Z"
    }
   },
   "outputs": [],
   "source": [
    "from multiprocessing import Process\n",
    "ps1_proc = Process(target=parameter_server, args=(0, ), daemon=True)\n",
    "ps2_proc = Process(target=parameter_server, args=(1, ), daemon=True)\n",
    "\n",
    "logs_path = 'logs/test/' + time.strftime(\"%Y-%m-%d-%H-%M\") + '/'\n",
    "w1_proc = Process(target=worker, args=(0, logs_path), daemon=True)\n",
    "w2_proc = Process(target=worker, args=(1, logs_path), daemon=True)"
   ]
  },
  {
   "cell_type": "code",
   "execution_count": 12,
   "metadata": {
    "ExecuteTime": {
     "end_time": "2018-06-01T05:48:03.501190Z",
     "start_time": "2018-06-01T05:48:03.486404Z"
    },
    "scrolled": true
   },
   "outputs": [],
   "source": [
    "ps1_proc.start()\n",
    "ps2_proc.start()"
   ]
  },
  {
   "cell_type": "code",
   "execution_count": 13,
   "metadata": {
    "ExecuteTime": {
     "end_time": "2018-06-01T05:48:09.199548Z",
     "start_time": "2018-06-01T05:48:09.189964Z"
    },
    "scrolled": true
   },
   "outputs": [
    {
     "name": "stdout",
     "output_type": "stream",
     "text": [
      "INFO:tensorflow:SyncReplicasV2: replicas_to_aggregate=2; total_num_replicas=2\n",
      "INFO:tensorflow:Create CheckpointSaverHook.\n",
      "INFO:tensorflow:Restoring parameters from logs/train_logs/model.ckpt-0\n",
      "INFO:tensorflow:Saving checkpoints for 0 into logs/train_logs/model.ckpt.\n",
      "0/10000 epoch, train_loss = 13.840, accuracy = 0.0469, time/epoch = 0.744, global_step = 0\n",
      "INFO:tensorflow:global_step/sec: 56.3579\n",
      "100/10000 epoch, train_loss = 0.377, accuracy = 0.9062, time/epoch = 0.016, global_step = 105\n",
      "INFO:tensorflow:global_step/sec: 60.3791\n",
      "200/10000 epoch, train_loss = 0.171, accuracy = 0.9531, time/epoch = 0.017, global_step = 205\n",
      "INFO:tensorflow:global_step/sec: 59.5495\n",
      "300/10000 epoch, train_loss = 0.227, accuracy = 0.9375, time/epoch = 0.016, global_step = 305\n",
      "INFO:tensorflow:global_step/sec: 58.9251\n",
      "400/10000 epoch, train_loss = 0.091, accuracy = 0.9531, time/epoch = 0.017, global_step = 405\n",
      "INFO:tensorflow:global_step/sec: 59.5052\n",
      "500/10000 epoch, train_loss = 0.091, accuracy = 0.9844, time/epoch = 0.016, global_step = 505\n",
      "INFO:tensorflow:global_step/sec: 59.6415\n",
      "600/10000 epoch, train_loss = 0.042, accuracy = 1.0000, time/epoch = 0.017, global_step = 605\n",
      "INFO:tensorflow:global_step/sec: 59.2158\n",
      "700/10000 epoch, train_loss = 0.032, accuracy = 1.0000, time/epoch = 0.017, global_step = 705\n",
      "INFO:tensorflow:global_step/sec: 59.0615\n",
      "800/10000 epoch, train_loss = 0.081, accuracy = 0.9531, time/epoch = 0.017, global_step = 805\n",
      "INFO:tensorflow:global_step/sec: 55.072\n",
      "900/10000 epoch, train_loss = 0.074, accuracy = 0.9844, time/epoch = 0.017, global_step = 905\n",
      "INFO:tensorflow:global_step/sec: 58.7555\n",
      "1000/10000 epoch, train_loss = 0.056, accuracy = 0.9688, time/epoch = 0.017, global_step = 1005\n",
      "INFO:tensorflow:global_step/sec: 59.1596\n",
      "1100/10000 epoch, train_loss = 0.013, accuracy = 1.0000, time/epoch = 0.016, global_step = 1105\n",
      "INFO:tensorflow:global_step/sec: 59.1837\n",
      "1200/10000 epoch, train_loss = 0.009, accuracy = 1.0000, time/epoch = 0.017, global_step = 1205\n",
      "INFO:tensorflow:global_step/sec: 58.6049\n",
      "1300/10000 epoch, train_loss = 0.023, accuracy = 0.9844, time/epoch = 0.017, global_step = 1305\n",
      "INFO:tensorflow:global_step/sec: 58.9144\n",
      "1400/10000 epoch, train_loss = 0.014, accuracy = 1.0000, time/epoch = 0.016, global_step = 1405\n",
      "INFO:tensorflow:global_step/sec: 59.4998\n",
      "1500/10000 epoch, train_loss = 0.008, accuracy = 1.0000, time/epoch = 0.017, global_step = 1505\n",
      "INFO:tensorflow:global_step/sec: 59.3578\n",
      "1600/10000 epoch, train_loss = 0.070, accuracy = 0.9844, time/epoch = 0.018, global_step = 1605\n",
      "INFO:tensorflow:global_step/sec: 59.3847\n",
      "1700/10000 epoch, train_loss = 0.050, accuracy = 0.9844, time/epoch = 0.017, global_step = 1705\n",
      "INFO:tensorflow:global_step/sec: 55.5552\n",
      "1800/10000 epoch, train_loss = 0.004, accuracy = 1.0000, time/epoch = 0.016, global_step = 1805\n",
      "INFO:tensorflow:global_step/sec: 59.4765\n",
      "1900/10000 epoch, train_loss = 0.010, accuracy = 1.0000, time/epoch = 0.016, global_step = 1905\n",
      "INFO:tensorflow:global_step/sec: 59.1221\n",
      "2000/10000 epoch, train_loss = 0.008, accuracy = 1.0000, time/epoch = 0.017, global_step = 2005\n",
      "INFO:tensorflow:global_step/sec: 59.4435\n",
      "2100/10000 epoch, train_loss = 0.030, accuracy = 0.9844, time/epoch = 0.016, global_step = 2105\n",
      "INFO:tensorflow:global_step/sec: 59.1925\n",
      "2200/10000 epoch, train_loss = 0.046, accuracy = 0.9688, time/epoch = 0.017, global_step = 2205\n",
      "INFO:tensorflow:global_step/sec: 59.3252\n",
      "2300/10000 epoch, train_loss = 0.009, accuracy = 1.0000, time/epoch = 0.016, global_step = 2305\n",
      "INFO:tensorflow:global_step/sec: 59.2309\n",
      "2400/10000 epoch, train_loss = 0.009, accuracy = 1.0000, time/epoch = 0.016, global_step = 2405\n",
      "INFO:tensorflow:global_step/sec: 59.0016\n",
      "2500/10000 epoch, train_loss = 0.003, accuracy = 1.0000, time/epoch = 0.016, global_step = 2505\n",
      "INFO:tensorflow:global_step/sec: 55.2564\n",
      "2600/10000 epoch, train_loss = 0.007, accuracy = 1.0000, time/epoch = 0.017, global_step = 2605\n",
      "INFO:tensorflow:global_step/sec: 59.0586\n",
      "2700/10000 epoch, train_loss = 0.007, accuracy = 1.0000, time/epoch = 0.016, global_step = 2705\n",
      "INFO:tensorflow:global_step/sec: 59.3159\n",
      "2800/10000 epoch, train_loss = 0.039, accuracy = 0.9844, time/epoch = 0.016, global_step = 2805\n",
      "INFO:tensorflow:global_step/sec: 59.6469\n",
      "2900/10000 epoch, train_loss = 0.001, accuracy = 1.0000, time/epoch = 0.017, global_step = 2905\n",
      "INFO:tensorflow:global_step/sec: 59.2539\n",
      "3000/10000 epoch, train_loss = 0.008, accuracy = 1.0000, time/epoch = 0.018, global_step = 3005\n",
      "INFO:tensorflow:global_step/sec: 59.0069\n",
      "3100/10000 epoch, train_loss = 0.005, accuracy = 1.0000, time/epoch = 0.016, global_step = 3105\n",
      "INFO:tensorflow:global_step/sec: 59.4815\n",
      "3200/10000 epoch, train_loss = 0.005, accuracy = 1.0000, time/epoch = 0.016, global_step = 3205\n",
      "INFO:tensorflow:global_step/sec: 59.5269\n",
      "3300/10000 epoch, train_loss = 0.003, accuracy = 1.0000, time/epoch = 0.017, global_step = 3305\n",
      "INFO:tensorflow:global_step/sec: 58.9521\n",
      "3400/10000 epoch, train_loss = 0.013, accuracy = 1.0000, time/epoch = 0.017, global_step = 3405\n",
      "INFO:tensorflow:global_step/sec: 55.4398\n",
      "3500/10000 epoch, train_loss = 0.009, accuracy = 1.0000, time/epoch = 0.017, global_step = 3505\n",
      "INFO:tensorflow:global_step/sec: 59.257\n",
      "3600/10000 epoch, train_loss = 0.002, accuracy = 1.0000, time/epoch = 0.017, global_step = 3605\n",
      "INFO:tensorflow:global_step/sec: 59.177\n",
      "3700/10000 epoch, train_loss = 0.022, accuracy = 0.9844, time/epoch = 0.016, global_step = 3705\n",
      "INFO:tensorflow:global_step/sec: 59.3867\n",
      "3800/10000 epoch, train_loss = 0.003, accuracy = 1.0000, time/epoch = 0.017, global_step = 3805\n",
      "INFO:tensorflow:global_step/sec: 59.2262\n",
      "3900/10000 epoch, train_loss = 0.001, accuracy = 1.0000, time/epoch = 0.016, global_step = 3905\n",
      "INFO:tensorflow:global_step/sec: 59.0822\n",
      "4000/10000 epoch, train_loss = 0.002, accuracy = 1.0000, time/epoch = 0.017, global_step = 4005\n",
      "INFO:tensorflow:global_step/sec: 59.173\n",
      "4100/10000 epoch, train_loss = 0.054, accuracy = 0.9844, time/epoch = 0.017, global_step = 4105\n",
      "INFO:tensorflow:global_step/sec: 59.2515\n",
      "4200/10000 epoch, train_loss = 0.004, accuracy = 1.0000, time/epoch = 0.017, global_step = 4205\n",
      "INFO:tensorflow:global_step/sec: 57.0024\n",
      "4300/10000 epoch, train_loss = 0.005, accuracy = 1.0000, time/epoch = 0.017, global_step = 4305\n",
      "INFO:tensorflow:global_step/sec: 57.0408\n",
      "4400/10000 epoch, train_loss = 0.002, accuracy = 1.0000, time/epoch = 0.016, global_step = 4405\n",
      "INFO:tensorflow:global_step/sec: 59.1392\n",
      "4500/10000 epoch, train_loss = 0.002, accuracy = 1.0000, time/epoch = 0.016, global_step = 4505\n",
      "INFO:tensorflow:global_step/sec: 59.1107\n",
      "4600/10000 epoch, train_loss = 0.003, accuracy = 1.0000, time/epoch = 0.016, global_step = 4605\n",
      "INFO:tensorflow:global_step/sec: 59.1969\n",
      "4700/10000 epoch, train_loss = 0.001, accuracy = 1.0000, time/epoch = 0.018, global_step = 4705\n",
      "INFO:tensorflow:global_step/sec: 58.6166\n",
      "4800/10000 epoch, train_loss = 0.020, accuracy = 1.0000, time/epoch = 0.016, global_step = 4805\n",
      "INFO:tensorflow:global_step/sec: 59.6627\n",
      "4900/10000 epoch, train_loss = 0.000, accuracy = 1.0000, time/epoch = 0.016, global_step = 4905\n",
      "INFO:tensorflow:global_step/sec: 60.0758\n",
      "5000/10000 epoch, train_loss = 0.001, accuracy = 1.0000, time/epoch = 0.018, global_step = 5005\n",
      "INFO:tensorflow:global_step/sec: 59.3346\n",
      "5100/10000 epoch, train_loss = 0.002, accuracy = 1.0000, time/epoch = 0.018, global_step = 5105\n",
      "INFO:tensorflow:global_step/sec: 55.5283\n",
      "5200/10000 epoch, train_loss = 0.005, accuracy = 1.0000, time/epoch = 0.017, global_step = 5205\n",
      "INFO:tensorflow:global_step/sec: 58.9946\n",
      "5300/10000 epoch, train_loss = 0.000, accuracy = 1.0000, time/epoch = 0.016, global_step = 5305\n",
      "INFO:tensorflow:global_step/sec: 59.2488\n",
      "5400/10000 epoch, train_loss = 0.038, accuracy = 0.9844, time/epoch = 0.017, global_step = 5405\n",
      "INFO:tensorflow:global_step/sec: 59.6245\n",
      "5500/10000 epoch, train_loss = 0.001, accuracy = 1.0000, time/epoch = 0.017, global_step = 5505\n",
      "INFO:tensorflow:global_step/sec: 59.3389\n",
      "5600/10000 epoch, train_loss = 0.004, accuracy = 1.0000, time/epoch = 0.017, global_step = 5605\n",
      "INFO:tensorflow:global_step/sec: 59.574\n",
      "5700/10000 epoch, train_loss = 0.003, accuracy = 1.0000, time/epoch = 0.018, global_step = 5705\n",
      "INFO:tensorflow:global_step/sec: 59.6334\n",
      "5800/10000 epoch, train_loss = 0.006, accuracy = 1.0000, time/epoch = 0.016, global_step = 5805\n"
     ]
    },
    {
     "name": "stdout",
     "output_type": "stream",
     "text": [
      "INFO:tensorflow:global_step/sec: 59.3378\n",
      "5900/10000 epoch, train_loss = 0.064, accuracy = 0.9531, time/epoch = 0.016, global_step = 5905\n",
      "INFO:tensorflow:global_step/sec: 59.2711\n",
      "6000/10000 epoch, train_loss = 0.002, accuracy = 1.0000, time/epoch = 0.016, global_step = 6005\n",
      "INFO:tensorflow:global_step/sec: 55.2099\n",
      "6100/10000 epoch, train_loss = 0.001, accuracy = 1.0000, time/epoch = 0.018, global_step = 6105\n",
      "INFO:tensorflow:global_step/sec: 58.9013\n",
      "6200/10000 epoch, train_loss = 0.001, accuracy = 1.0000, time/epoch = 0.016, global_step = 6205\n",
      "INFO:tensorflow:global_step/sec: 58.8364\n",
      "6300/10000 epoch, train_loss = 0.000, accuracy = 1.0000, time/epoch = 0.017, global_step = 6305\n",
      "INFO:tensorflow:global_step/sec: 58.8459\n",
      "6400/10000 epoch, train_loss = 0.002, accuracy = 1.0000, time/epoch = 0.016, global_step = 6405\n",
      "INFO:tensorflow:global_step/sec: 58.6424\n",
      "6500/10000 epoch, train_loss = 0.003, accuracy = 1.0000, time/epoch = 0.018, global_step = 6505\n",
      "INFO:tensorflow:global_step/sec: 59.0613\n",
      "6600/10000 epoch, train_loss = 0.018, accuracy = 0.9844, time/epoch = 0.017, global_step = 6605\n",
      "INFO:tensorflow:global_step/sec: 59.0862\n",
      "6700/10000 epoch, train_loss = 0.003, accuracy = 1.0000, time/epoch = 0.017, global_step = 6705\n",
      "INFO:tensorflow:global_step/sec: 59.1512\n",
      "6800/10000 epoch, train_loss = 0.007, accuracy = 1.0000, time/epoch = 0.019, global_step = 6805\n",
      "INFO:tensorflow:global_step/sec: 55.129\n",
      "6900/10000 epoch, train_loss = 0.001, accuracy = 1.0000, time/epoch = 0.017, global_step = 6905\n",
      "INFO:tensorflow:global_step/sec: 58.7008\n",
      "7000/10000 epoch, train_loss = 0.038, accuracy = 0.9844, time/epoch = 0.017, global_step = 7005\n",
      "INFO:tensorflow:global_step/sec: 59.0634\n",
      "7100/10000 epoch, train_loss = 0.000, accuracy = 1.0000, time/epoch = 0.016, global_step = 7105\n",
      "INFO:tensorflow:global_step/sec: 58.8488\n",
      "7200/10000 epoch, train_loss = 0.000, accuracy = 1.0000, time/epoch = 0.017, global_step = 7205\n",
      "INFO:tensorflow:global_step/sec: 58.8056\n",
      "7300/10000 epoch, train_loss = 0.000, accuracy = 1.0000, time/epoch = 0.016, global_step = 7305\n",
      "INFO:tensorflow:global_step/sec: 59.0879\n",
      "7400/10000 epoch, train_loss = 0.001, accuracy = 1.0000, time/epoch = 0.017, global_step = 7405\n",
      "INFO:tensorflow:global_step/sec: 59.2308\n",
      "7500/10000 epoch, train_loss = 0.044, accuracy = 0.9688, time/epoch = 0.017, global_step = 7505\n",
      "INFO:tensorflow:global_step/sec: 59.678\n",
      "7600/10000 epoch, train_loss = 0.000, accuracy = 1.0000, time/epoch = 0.017, global_step = 7605\n",
      "INFO:tensorflow:global_step/sec: 59.117\n",
      "7700/10000 epoch, train_loss = 0.000, accuracy = 1.0000, time/epoch = 0.016, global_step = 7705\n",
      "INFO:tensorflow:global_step/sec: 55.4486\n",
      "7800/10000 epoch, train_loss = 0.000, accuracy = 1.0000, time/epoch = 0.016, global_step = 7805\n",
      "INFO:tensorflow:global_step/sec: 59.0806\n",
      "7900/10000 epoch, train_loss = 0.000, accuracy = 1.0000, time/epoch = 0.016, global_step = 7905\n",
      "INFO:tensorflow:global_step/sec: 59.1536\n",
      "8000/10000 epoch, train_loss = 0.001, accuracy = 1.0000, time/epoch = 0.018, global_step = 8005\n",
      "INFO:tensorflow:global_step/sec: 58.6879\n",
      "8100/10000 epoch, train_loss = 0.001, accuracy = 1.0000, time/epoch = 0.017, global_step = 8105\n",
      "INFO:tensorflow:global_step/sec: 59.244\n",
      "8200/10000 epoch, train_loss = 0.086, accuracy = 0.9844, time/epoch = 0.017, global_step = 8205\n",
      "INFO:tensorflow:global_step/sec: 58.9353\n",
      "8300/10000 epoch, train_loss = 0.000, accuracy = 1.0000, time/epoch = 0.018, global_step = 8305\n",
      "INFO:tensorflow:global_step/sec: 58.7191\n",
      "8400/10000 epoch, train_loss = 0.000, accuracy = 1.0000, time/epoch = 0.019, global_step = 8405\n",
      "INFO:tensorflow:global_step/sec: 58.9662\n",
      "8500/10000 epoch, train_loss = 0.000, accuracy = 1.0000, time/epoch = 0.016, global_step = 8505\n",
      "INFO:tensorflow:global_step/sec: 54.7294\n",
      "8600/10000 epoch, train_loss = 0.001, accuracy = 1.0000, time/epoch = 0.016, global_step = 8605\n",
      "INFO:tensorflow:global_step/sec: 59.2646\n",
      "8700/10000 epoch, train_loss = 0.000, accuracy = 1.0000, time/epoch = 0.017, global_step = 8705\n",
      "INFO:tensorflow:global_step/sec: 59.2737\n",
      "8800/10000 epoch, train_loss = 0.001, accuracy = 1.0000, time/epoch = 0.017, global_step = 8805\n",
      "INFO:tensorflow:global_step/sec: 58.8287\n",
      "8900/10000 epoch, train_loss = 0.000, accuracy = 1.0000, time/epoch = 0.016, global_step = 8905\n",
      "INFO:tensorflow:global_step/sec: 59.5136\n",
      "9000/10000 epoch, train_loss = 0.001, accuracy = 1.0000, time/epoch = 0.016, global_step = 9005\n",
      "INFO:tensorflow:global_step/sec: 59.6209\n",
      "9100/10000 epoch, train_loss = 0.008, accuracy = 1.0000, time/epoch = 0.016, global_step = 9105\n",
      "INFO:tensorflow:global_step/sec: 59.5007\n",
      "9200/10000 epoch, train_loss = 0.021, accuracy = 0.9844, time/epoch = 0.018, global_step = 9205\n",
      "INFO:tensorflow:global_step/sec: 58.6177\n",
      "9300/10000 epoch, train_loss = 0.001, accuracy = 1.0000, time/epoch = 0.016, global_step = 9305\n",
      "INFO:tensorflow:global_step/sec: 59.1206\n",
      "9400/10000 epoch, train_loss = 0.000, accuracy = 1.0000, time/epoch = 0.017, global_step = 9405\n",
      "INFO:tensorflow:global_step/sec: 55.6835\n",
      "9500/10000 epoch, train_loss = 0.000, accuracy = 1.0000, time/epoch = 0.016, global_step = 9505\n",
      "INFO:tensorflow:global_step/sec: 59.6476\n",
      "9600/10000 epoch, train_loss = 0.000, accuracy = 1.0000, time/epoch = 0.017, global_step = 9605\n",
      "INFO:tensorflow:global_step/sec: 59.4635\n",
      "9700/10000 epoch, train_loss = 0.000, accuracy = 1.0000, time/epoch = 0.017, global_step = 9705\n",
      "INFO:tensorflow:global_step/sec: 59.4684\n",
      "9800/10000 epoch, train_loss = 0.002, accuracy = 1.0000, time/epoch = 0.017, global_step = 9805\n",
      "INFO:tensorflow:global_step/sec: 59.4303\n",
      "9900/10000 epoch, train_loss = 0.000, accuracy = 1.0000, time/epoch = 0.016, global_step = 9905\n"
     ]
    }
   ],
   "source": [
    "w1_proc.start()"
   ]
  },
  {
   "cell_type": "code",
   "execution_count": 14,
   "metadata": {
    "ExecuteTime": {
     "end_time": "2018-06-01T05:51:27.667721Z",
     "start_time": "2018-06-01T05:51:27.657937Z"
    },
    "scrolled": true
   },
   "outputs": [
    {
     "name": "stdout",
     "output_type": "stream",
     "text": [
      "INFO:tensorflow:SyncReplicasV2: replicas_to_aggregate=2; total_num_replicas=2\n",
      "0/10000 epoch, train_loss = 13.840, accuracy = 0.0469, time/epoch = 0.234, global_step = 0\n",
      "100/10000 epoch, train_loss = 0.769, accuracy = 0.7812, time/epoch = 0.016, global_step = 93\n",
      "200/10000 epoch, train_loss = 0.318, accuracy = 0.9219, time/epoch = 0.016, global_step = 193\n",
      "300/10000 epoch, train_loss = 0.444, accuracy = 0.9062, time/epoch = 0.016, global_step = 293\n",
      "400/10000 epoch, train_loss = 0.130, accuracy = 0.9688, time/epoch = 0.017, global_step = 393\n",
      "500/10000 epoch, train_loss = 0.193, accuracy = 0.9531, time/epoch = 0.016, global_step = 493\n",
      "600/10000 epoch, train_loss = 0.088, accuracy = 0.9688, time/epoch = 0.020, global_step = 593\n",
      "700/10000 epoch, train_loss = 0.141, accuracy = 0.9375, time/epoch = 0.017, global_step = 693\n",
      "800/10000 epoch, train_loss = 0.363, accuracy = 0.9062, time/epoch = 0.016, global_step = 793\n",
      "900/10000 epoch, train_loss = 0.232, accuracy = 0.9375, time/epoch = 0.017, global_step = 893\n",
      "1000/10000 epoch, train_loss = 0.162, accuracy = 0.9531, time/epoch = 0.017, global_step = 993\n",
      "1100/10000 epoch, train_loss = 0.094, accuracy = 0.9688, time/epoch = 0.018, global_step = 1093\n",
      "1200/10000 epoch, train_loss = 0.070, accuracy = 0.9531, time/epoch = 0.017, global_step = 1193\n",
      "1300/10000 epoch, train_loss = 0.036, accuracy = 0.9844, time/epoch = 0.016, global_step = 1293\n",
      "1400/10000 epoch, train_loss = 0.051, accuracy = 0.9688, time/epoch = 0.016, global_step = 1393\n",
      "1500/10000 epoch, train_loss = 0.016, accuracy = 1.0000, time/epoch = 0.017, global_step = 1493\n",
      "1600/10000 epoch, train_loss = 0.138, accuracy = 0.9531, time/epoch = 0.017, global_step = 1593\n",
      "1700/10000 epoch, train_loss = 0.360, accuracy = 0.9531, time/epoch = 0.017, global_step = 1693\n",
      "1800/10000 epoch, train_loss = 0.007, accuracy = 1.0000, time/epoch = 0.017, global_step = 1793\n",
      "1900/10000 epoch, train_loss = 0.016, accuracy = 1.0000, time/epoch = 0.016, global_step = 1893\n",
      "2000/10000 epoch, train_loss = 0.022, accuracy = 1.0000, time/epoch = 0.017, global_step = 1993\n",
      "2100/10000 epoch, train_loss = 0.082, accuracy = 0.9688, time/epoch = 0.017, global_step = 2093\n",
      "2200/10000 epoch, train_loss = 0.015, accuracy = 1.0000, time/epoch = 0.017, global_step = 2193\n",
      "2300/10000 epoch, train_loss = 0.147, accuracy = 0.9531, time/epoch = 0.018, global_step = 2293\n",
      "2400/10000 epoch, train_loss = 0.174, accuracy = 0.9375, time/epoch = 0.017, global_step = 2393\n",
      "2500/10000 epoch, train_loss = 0.100, accuracy = 0.9688, time/epoch = 0.018, global_step = 2493\n",
      "2600/10000 epoch, train_loss = 0.012, accuracy = 1.0000, time/epoch = 0.017, global_step = 2593\n",
      "2700/10000 epoch, train_loss = 0.034, accuracy = 1.0000, time/epoch = 0.017, global_step = 2693\n",
      "2800/10000 epoch, train_loss = 0.024, accuracy = 0.9844, time/epoch = 0.017, global_step = 2793\n",
      "2900/10000 epoch, train_loss = 0.014, accuracy = 1.0000, time/epoch = 0.017, global_step = 2893\n",
      "3000/10000 epoch, train_loss = 0.001, accuracy = 1.0000, time/epoch = 0.019, global_step = 2993\n",
      "3100/10000 epoch, train_loss = 0.029, accuracy = 0.9844, time/epoch = 0.018, global_step = 3093\n",
      "3200/10000 epoch, train_loss = 0.007, accuracy = 1.0000, time/epoch = 0.017, global_step = 3193\n",
      "3300/10000 epoch, train_loss = 0.035, accuracy = 0.9844, time/epoch = 0.017, global_step = 3293\n",
      "3400/10000 epoch, train_loss = 0.003, accuracy = 1.0000, time/epoch = 0.017, global_step = 3393\n",
      "3500/10000 epoch, train_loss = 0.016, accuracy = 1.0000, time/epoch = 0.016, global_step = 3493\n",
      "3600/10000 epoch, train_loss = 0.081, accuracy = 0.9688, time/epoch = 0.017, global_step = 3593\n",
      "3700/10000 epoch, train_loss = 0.033, accuracy = 0.9844, time/epoch = 0.019, global_step = 3693\n",
      "3800/10000 epoch, train_loss = 0.048, accuracy = 0.9844, time/epoch = 0.017, global_step = 3793\n",
      "3900/10000 epoch, train_loss = 0.002, accuracy = 1.0000, time/epoch = 0.017, global_step = 3893\n",
      "4000/10000 epoch, train_loss = 0.041, accuracy = 0.9844, time/epoch = 0.017, global_step = 3993\n",
      "4100/10000 epoch, train_loss = 0.054, accuracy = 0.9844, time/epoch = 0.016, global_step = 4093\n",
      "4200/10000 epoch, train_loss = 0.003, accuracy = 1.0000, time/epoch = 0.017, global_step = 4193\n",
      "4300/10000 epoch, train_loss = 0.010, accuracy = 1.0000, time/epoch = 0.017, global_step = 4293\n",
      "4400/10000 epoch, train_loss = 0.005, accuracy = 1.0000, time/epoch = 0.018, global_step = 4393\n",
      "4500/10000 epoch, train_loss = 0.027, accuracy = 0.9844, time/epoch = 0.017, global_step = 4493\n",
      "4600/10000 epoch, train_loss = 0.003, accuracy = 1.0000, time/epoch = 0.016, global_step = 4593\n",
      "4700/10000 epoch, train_loss = 0.003, accuracy = 1.0000, time/epoch = 0.016, global_step = 4693\n",
      "4800/10000 epoch, train_loss = 0.054, accuracy = 0.9688, time/epoch = 0.017, global_step = 4793\n",
      "4900/10000 epoch, train_loss = 0.007, accuracy = 1.0000, time/epoch = 0.017, global_step = 4893\n",
      "5000/10000 epoch, train_loss = 0.132, accuracy = 0.9688, time/epoch = 0.016, global_step = 4993\n",
      "5100/10000 epoch, train_loss = 0.001, accuracy = 1.0000, time/epoch = 0.016, global_step = 5093\n",
      "5200/10000 epoch, train_loss = 0.067, accuracy = 0.9844, time/epoch = 0.017, global_step = 5193\n",
      "5300/10000 epoch, train_loss = 0.003, accuracy = 1.0000, time/epoch = 0.017, global_step = 5293\n",
      "5400/10000 epoch, train_loss = 0.129, accuracy = 0.9688, time/epoch = 0.017, global_step = 5393\n",
      "5500/10000 epoch, train_loss = 0.002, accuracy = 1.0000, time/epoch = 0.018, global_step = 5493\n",
      "5600/10000 epoch, train_loss = 0.108, accuracy = 0.9844, time/epoch = 0.017, global_step = 5593\n",
      "5700/10000 epoch, train_loss = 0.068, accuracy = 0.9688, time/epoch = 0.016, global_step = 5693\n",
      "5800/10000 epoch, train_loss = 0.003, accuracy = 1.0000, time/epoch = 0.015, global_step = 5793\n",
      "5900/10000 epoch, train_loss = 0.004, accuracy = 1.0000, time/epoch = 0.016, global_step = 5893\n",
      "6000/10000 epoch, train_loss = 0.009, accuracy = 1.0000, time/epoch = 0.017, global_step = 5993\n",
      "6100/10000 epoch, train_loss = 0.000, accuracy = 1.0000, time/epoch = 0.016, global_step = 6093\n",
      "6200/10000 epoch, train_loss = 0.000, accuracy = 1.0000, time/epoch = 0.017, global_step = 6193\n",
      "6300/10000 epoch, train_loss = 0.000, accuracy = 1.0000, time/epoch = 0.018, global_step = 6293\n",
      "6400/10000 epoch, train_loss = 0.007, accuracy = 1.0000, time/epoch = 0.018, global_step = 6393\n",
      "6500/10000 epoch, train_loss = 0.001, accuracy = 1.0000, time/epoch = 0.017, global_step = 6493\n",
      "6600/10000 epoch, train_loss = 0.002, accuracy = 1.0000, time/epoch = 0.017, global_step = 6593\n",
      "6700/10000 epoch, train_loss = 0.013, accuracy = 0.9844, time/epoch = 0.017, global_step = 6693\n",
      "6800/10000 epoch, train_loss = 0.100, accuracy = 0.9688, time/epoch = 0.016, global_step = 6793\n",
      "6900/10000 epoch, train_loss = 0.091, accuracy = 0.9688, time/epoch = 0.018, global_step = 6893\n",
      "7000/10000 epoch, train_loss = 0.001, accuracy = 1.0000, time/epoch = 0.016, global_step = 6993\n",
      "7100/10000 epoch, train_loss = 0.001, accuracy = 1.0000, time/epoch = 0.018, global_step = 7093\n",
      "7200/10000 epoch, train_loss = 0.024, accuracy = 0.9844, time/epoch = 0.018, global_step = 7193\n",
      "7300/10000 epoch, train_loss = 0.005, accuracy = 1.0000, time/epoch = 0.016, global_step = 7293\n",
      "7400/10000 epoch, train_loss = 0.000, accuracy = 1.0000, time/epoch = 0.017, global_step = 7393\n",
      "7500/10000 epoch, train_loss = 0.013, accuracy = 1.0000, time/epoch = 0.016, global_step = 7493\n",
      "7600/10000 epoch, train_loss = 0.005, accuracy = 1.0000, time/epoch = 0.017, global_step = 7593\n",
      "7700/10000 epoch, train_loss = 0.000, accuracy = 1.0000, time/epoch = 0.017, global_step = 7693\n",
      "7800/10000 epoch, train_loss = 0.000, accuracy = 1.0000, time/epoch = 0.016, global_step = 7793\n",
      "7900/10000 epoch, train_loss = 0.004, accuracy = 1.0000, time/epoch = 0.016, global_step = 7893\n",
      "8000/10000 epoch, train_loss = 0.002, accuracy = 1.0000, time/epoch = 0.017, global_step = 7993\n",
      "8100/10000 epoch, train_loss = 0.075, accuracy = 0.9844, time/epoch = 0.017, global_step = 8093\n",
      "8200/10000 epoch, train_loss = 0.108, accuracy = 0.9531, time/epoch = 0.016, global_step = 8193\n",
      "8300/10000 epoch, train_loss = 0.000, accuracy = 1.0000, time/epoch = 0.017, global_step = 8293\n",
      "8400/10000 epoch, train_loss = 0.002, accuracy = 1.0000, time/epoch = 0.017, global_step = 8393\n"
     ]
    },
    {
     "name": "stdout",
     "output_type": "stream",
     "text": [
      "8500/10000 epoch, train_loss = 0.000, accuracy = 1.0000, time/epoch = 0.017, global_step = 8493\n",
      "8600/10000 epoch, train_loss = 0.001, accuracy = 1.0000, time/epoch = 0.018, global_step = 8593\n",
      "8700/10000 epoch, train_loss = 0.001, accuracy = 1.0000, time/epoch = 0.016, global_step = 8693\n",
      "8800/10000 epoch, train_loss = 0.109, accuracy = 0.9844, time/epoch = 0.018, global_step = 8793\n",
      "8900/10000 epoch, train_loss = 0.001, accuracy = 1.0000, time/epoch = 0.017, global_step = 8893\n",
      "9000/10000 epoch, train_loss = 0.008, accuracy = 1.0000, time/epoch = 0.016, global_step = 8993\n",
      "9100/10000 epoch, train_loss = 0.111, accuracy = 0.9844, time/epoch = 0.016, global_step = 9093\n",
      "9200/10000 epoch, train_loss = 0.019, accuracy = 0.9844, time/epoch = 0.016, global_step = 9193\n",
      "9300/10000 epoch, train_loss = 0.001, accuracy = 1.0000, time/epoch = 0.018, global_step = 9293\n",
      "9400/10000 epoch, train_loss = 0.061, accuracy = 0.9844, time/epoch = 0.016, global_step = 9393\n",
      "9500/10000 epoch, train_loss = 0.008, accuracy = 1.0000, time/epoch = 0.016, global_step = 9493\n",
      "9600/10000 epoch, train_loss = 0.000, accuracy = 1.0000, time/epoch = 0.018, global_step = 9593\n",
      "9700/10000 epoch, train_loss = 0.004, accuracy = 1.0000, time/epoch = 0.016, global_step = 9693\n",
      "9800/10000 epoch, train_loss = 0.001, accuracy = 1.0000, time/epoch = 0.017, global_step = 9793\n",
      "9900/10000 epoch, train_loss = 0.001, accuracy = 1.0000, time/epoch = 0.017, global_step = 9893\n",
      "test accuracy:  0.9693\n",
      "elapsed:  170.3921835422516\n"
     ]
    }
   ],
   "source": [
    "w2_proc.start()"
   ]
  },
  {
   "cell_type": "code",
   "execution_count": null,
   "metadata": {},
   "outputs": [],
   "source": []
  },
  {
   "cell_type": "code",
   "execution_count": null,
   "metadata": {},
   "outputs": [],
   "source": []
  },
  {
   "cell_type": "code",
   "execution_count": null,
   "metadata": {},
   "outputs": [],
   "source": []
  }
 ],
 "metadata": {
  "kernelspec": {
   "display_name": "Python 3",
   "language": "python",
   "name": "python3"
  },
  "language_info": {
   "codemirror_mode": {
    "name": "ipython",
    "version": 3
   },
   "file_extension": ".py",
   "mimetype": "text/x-python",
   "name": "python",
   "nbconvert_exporter": "python",
   "pygments_lexer": "ipython3",
   "version": "3.5.2"
  }
 },
 "nbformat": 4,
 "nbformat_minor": 2
}
